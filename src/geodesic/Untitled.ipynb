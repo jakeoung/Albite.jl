{
 "cells": [
  {
   "cell_type": "code",
   "execution_count": 133,
   "metadata": {},
   "outputs": [],
   "source": [
    "using FileIO\n",
    "using MeshIO\n",
    "using LinearAlgebra\n",
    "using SparseArrays"
   ]
  },
  {
   "cell_type": "code",
   "execution_count": 53,
   "metadata": {},
   "outputs": [],
   "source": [
    "mesh = load(\"./bunny.obj\")\n",
    "vs, fs = mesh.vertices, mesh.faces;"
   ]
  },
  {
   "cell_type": "code",
   "execution_count": 54,
   "metadata": {},
   "outputs": [
    {
     "ename": "UndefVarError",
     "evalue": "UndefVarError: Point3 not defined",
     "output_type": "error",
     "traceback": [
      "UndefVarError: Point3 not defined",
      "",
      "Stacktrace:",
      " [1] top-level scope at In[54]:1"
     ]
    }
   ],
   "source": [
    "cross(Point3(1,2,3), Point3(4,4,6))"
   ]
  },
  {
   "cell_type": "code",
   "execution_count": 80,
   "metadata": {},
   "outputs": [],
   "source": [
    "struct SP\n",
    "    I::Array{Int64,1}\n",
    "    J::Array{Int64,1}\n",
    "    V::Array{Float64,1}\n",
    "    nrows::Int\n",
    "    ncols::Int\n",
    "    function SP(nrows, ncols)\n",
    "        I = Array{Int,1}()\n",
    "        J = Array{Int,1}()\n",
    "        V = Array{Real,1}()\n",
    "\n",
    "        sz = nrows*Int(floor(sqrt(ncols)))\n",
    "        sizehint!(I, sz)\n",
    "        sizehint!(J, sz)\n",
    "        sizehint!(V, sz)\n",
    "        \n",
    "        new(I, J, V, nrows, ncols)\n",
    "    end\n",
    "end"
   ]
  },
  {
   "cell_type": "code",
   "execution_count": 140,
   "metadata": {},
   "outputs": [],
   "source": [
    "nv = length(vs)\n",
    "nf = length(fs)\n",
    "\n",
    "XF(i,j) = vs[fs[i]][j]\n",
    "idx_fs = 1:length(fs)\n",
    "normals = cross.(XF.(idx_fs, 2) - XF.(idx_fs, 1), XF.(idx_fs, 3) - XF.(idx_fs, 1))\n",
    "normals_sqlen = map(k -> sum(k.^2), normals)\n",
    "A = normals_sqlen / 2.0\n",
    "normals_unit =  normals ./ sqrt.(normals_sqlen)\n",
    "\n",
    "sp = SP(nf, nf)\n",
    "for i=1:3\n",
    "    ei = mod(i, 3) + 1 # opposite edge\n",
    "    ti = mod(i+1,3) + 1\n",
    "    \n",
    "    weight = cross.(XF.(idx_fs, ei) - XF.(idx_fs, ti), normals_unit)\n",
    "    map(k -> push!(sp.I, k), 1:nf)\n",
    "    map(k -> push!(sp.J, k[i]), fs)\n",
    "    map(k -> (push!(sp.V, k[1]); push!(sp.V, k[2]); push!(sp.V, k[3])), weight)\n",
    "end"
   ]
  },
  {
   "cell_type": "code",
   "execution_count": 148,
   "metadata": {},
   "outputs": [
    {
     "data": {
      "text/plain": [
       "D (generic function with 1 method)"
      ]
     },
     "execution_count": 148,
     "metadata": {},
     "output_type": "execute_result"
    }
   ],
   "source": [
    "grads = []\n",
    "push!(grads, sparse(sp.I, sp.J, sp.V[1:Int(end/3)]) )\n",
    "push!(grads, sparse(sp.I, sp.J, sp.V[Int(end/3)+1:Int(end/3)*2]) )\n",
    "push!(grads, sparse(sp.I, sp.J, sp.V[Int(end/3)*2+1:end]) )\n",
    "\n",
    "D(u) = [grads[1]*u, grads[2]*u, grads[3]*u]'\n",
    "Dt(v) = [grads[1]'*v, grads[2]'*v, grads[3]'*v]"
   ]
  },
  {
   "cell_type": "code",
   "execution_count": 1,
   "metadata": {},
   "outputs": [
    {
     "data": {
      "text/plain": [
       "SP"
      ]
     },
     "execution_count": 1,
     "metadata": {},
     "output_type": "execute_result"
    }
   ],
   "source": [
    "\"dfdf\"\n",
    "struct SP{T<:AbstractFloat}\n",
    "    I::Array{Int,1}\n",
    "    J::Array{Int,1}\n",
    "    V::Array{T,1}\n",
    "    nrows::Int\n",
    "    ncols::Int\n",
    "end\n",
    "\n",
    "# \"Cons\"\n",
    "function SP(nrows, ncols)\n",
    "    I = Array{Int,1}()\n",
    "    J = Array{Int,1}()\n",
    "    V = Array{AbstractFloat,1}()\n",
    "\n",
    "    sz = nrows*Int(floor(sqrt(ncols)))\n",
    "    sizehint!(I, sz)\n",
    "    sizehint!(J, sz)\n",
    "    sizehint!(V, sz)\n",
    "\n",
    "    return SP(I, J, V, nrows, ncols)\n",
    "end\n"
   ]
  },
  {
   "cell_type": "code",
   "execution_count": 14,
   "metadata": {},
   "outputs": [
    {
     "name": "stdout",
     "output_type": "stream",
     "text": [
      "search: \u001b[0m\u001b[1mS\u001b[22m\u001b[0m\u001b[1mP\u001b[22m \u001b[0m\u001b[1ms\u001b[22m\u001b[0m\u001b[1mp\u001b[22mlit \u001b[0m\u001b[1ms\u001b[22m\u001b[0m\u001b[1mp\u001b[22mrint \u001b[0m\u001b[1ms\u001b[22m\u001b[0m\u001b[1mp\u001b[22mlice! \u001b[0m\u001b[1ms\u001b[22m\u001b[0m\u001b[1mp\u001b[22mlitext \u001b[0m\u001b[1ms\u001b[22m\u001b[0m\u001b[1mp\u001b[22mlitdir \u001b[0m\u001b[1ms\u001b[22m\u001b[0m\u001b[1mp\u001b[22mlitpath \u001b[0m\u001b[1ms\u001b[22m\u001b[0m\u001b[1mp\u001b[22mlitdrive r\u001b[0m\u001b[1ms\u001b[22m\u001b[0m\u001b[1mp\u001b[22mlit\n",
      "\n"
     ]
    },
    {
     "data": {
      "text/latex": [
       "dfdf\n",
       "\n",
       "\\rule{\\textwidth}{1pt}\n",
       "Cons\n",
       "\n"
      ],
      "text/markdown": [
       "dfdf\n",
       "\n",
       "---\n",
       "\n",
       "Cons\n"
      ],
      "text/plain": [
       "  dfdf\n",
       "\n",
       "  ────────────────────────────────────────────────────────────────────────────\n",
       "\n",
       "  Cons"
      ]
     },
     "execution_count": 14,
     "metadata": {},
     "output_type": "execute_result"
    }
   ],
   "source": [
    "SP("
   ]
  },
  {
   "cell_type": "code",
   "execution_count": 5,
   "metadata": {},
   "outputs": [
    {
     "data": {
      "text/plain": [
       "1-element Array{AbstractFloat,1}:\n",
       " 3.0"
      ]
     },
     "execution_count": 5,
     "metadata": {},
     "output_type": "execute_result"
    }
   ],
   "source": [
    "push!(ss.V, 3)"
   ]
  },
  {
   "cell_type": "code",
   "execution_count": 6,
   "metadata": {},
   "outputs": [
    {
     "data": {
      "text/plain": [
       "SP{AbstractFloat}(Int64[], Int64[], AbstractFloat[3.0], 100, 200)"
      ]
     },
     "execution_count": 6,
     "metadata": {},
     "output_type": "execute_result"
    }
   ],
   "source": [
    "ss"
   ]
  },
  {
   "cell_type": "code",
   "execution_count": 7,
   "metadata": {},
   "outputs": [
    {
     "data": {
      "text/plain": [
       "Float64"
      ]
     },
     "execution_count": 7,
     "metadata": {},
     "output_type": "execute_result"
    }
   ],
   "source": [
    "typeof(ss.V[1])"
   ]
  },
  {
   "cell_type": "code",
   "execution_count": null,
   "metadata": {},
   "outputs": [],
   "source": []
  }
 ],
 "metadata": {
  "kernelspec": {
   "display_name": "Julia 1.3.0",
   "language": "julia",
   "name": "julia-1.3"
  },
  "language_info": {
   "file_extension": ".jl",
   "mimetype": "application/julia",
   "name": "julia",
   "version": "1.3.0"
  }
 },
 "nbformat": 4,
 "nbformat_minor": 4
}
